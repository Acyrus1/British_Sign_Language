{
 "cells": [
  {
   "cell_type": "code",
   "execution_count": 1,
   "metadata": {
    "id": "igMyGnjE9hEp"
   },
   "outputs": [],
   "source": [
    "!pip install seaborn"
   ]
  },
  {
   "cell_type": "code",
   "execution_count": 1,
   "metadata": {},
   "outputs": [],
   "source": [
    "import csv\n",
    "import os\n",
    "import numpy as np\n",
    "import tensorflow as tf\n",
    "from sklearn.model_selection import train_test_split"
   ]
  },
  {
   "cell_type": "code",
   "execution_count": 2,
   "metadata": {},
   "outputs": [],
   "source": [
    "RANDOM_SEED = 42"
   ]
  },
  {
   "cell_type": "markdown",
   "metadata": {
    "id": "t2HDvhIu9hEr"
   },
   "source": [
    "# Specify each path"
   ]
  },
  {
   "cell_type": "code",
   "execution_count": 3,
   "metadata": {
    "id": "9NvZP2Zn9hEy"
   },
   "outputs": [],
   "source": [
    "dataset = 'landmarksSequence/landmarks.csv'\n",
    "model_save_path = 'landmarksSequence/landmarkClassifier.hdf5'\n",
    "tflite_save_path = 'landmarksSequence/landmarkClassifier.tflite'"
   ]
  },
  {
   "cell_type": "markdown",
   "metadata": {
    "id": "s5oMH7x19hEz"
   },
   "source": [
    "# Set number of classes"
   ]
  },
  {
   "cell_type": "code",
   "execution_count": 4,
   "metadata": {
    "id": "du4kodXL9hEz"
   },
   "outputs": [],
   "source": [
    "NUM_CLASSES = 18"
   ]
  },
  {
   "cell_type": "markdown",
   "metadata": {
    "id": "XjnL0uso9hEz"
   },
   "source": [
    "# Dataset reading"
   ]
  },
  {
   "cell_type": "code",
   "execution_count": 5,
   "metadata": {
    "id": "QT5ZqtEz9hE0"
   },
   "outputs": [],
   "source": [
    "X_dataset = np.loadtxt(dataset, delimiter=',', dtype='float32', usecols=list(range(1, (21 * 2) + 1)))"
   ]
  },
  {
   "cell_type": "code",
   "execution_count": 6,
   "metadata": {
    "id": "QmoKFsp49hE0"
   },
   "outputs": [],
   "source": [
    "y_dataset = np.loadtxt(dataset, delimiter=',', dtype='int32', usecols=(0))"
   ]
  },
  {
   "cell_type": "code",
   "execution_count": 7,
   "metadata": {
    "id": "xQU7JTZ_9hE0"
   },
   "outputs": [],
   "source": [
    "X_train, X_test, y_train, y_test = train_test_split(X_dataset, y_dataset, train_size=0.70, random_state=RANDOM_SEED)"
   ]
  },
  {
   "cell_type": "markdown",
   "metadata": {
    "id": "mxK_lETT9hE0"
   },
   "source": [
    "# Model building"
   ]
  },
  {
   "cell_type": "code",
   "execution_count": 8,
   "metadata": {
    "id": "vHBmUf1t9hE1"
   },
   "outputs": [],
   "source": [
    "model = tf.keras.models.Sequential([\n",
    "    tf.keras.layers.Input((21 * 2, )),\n",
    "    tf.keras.layers.Dropout(0.2),\n",
    "    tf.keras.layers.Dense(20, activation='relu'),\n",
    "    tf.keras.layers.Dropout(0.4),\n",
    "    tf.keras.layers.Dense(10, activation='relu'),\n",
    "    tf.keras.layers.Dense(NUM_CLASSES, activation='softmax')\n",
    "])"
   ]
  },
  {
   "cell_type": "code",
   "execution_count": 9,
   "metadata": {
    "colab": {
     "base_uri": "https://localhost:8080/"
    },
    "id": "ypqky9tc9hE1",
    "outputId": "5db082bb-30e3-4110-bf63-a1ee777ecd46"
   },
   "outputs": [
    {
     "name": "stdout",
     "output_type": "stream",
     "text": [
      "Model: \"sequential\"\n",
      "_________________________________________________________________\n",
      "Layer (type)                 Output Shape              Param #   \n",
      "=================================================================\n",
      "dropout (Dropout)            (None, 42)                0         \n",
      "_________________________________________________________________\n",
      "dense (Dense)                (None, 20)                860       \n",
      "_________________________________________________________________\n",
      "dropout_1 (Dropout)          (None, 20)                0         \n",
      "_________________________________________________________________\n",
      "dense_1 (Dense)              (None, 10)                210       \n",
      "_________________________________________________________________\n",
      "dense_2 (Dense)              (None, 18)                198       \n",
      "=================================================================\n",
      "Total params: 1,268\n",
      "Trainable params: 1,268\n",
      "Non-trainable params: 0\n",
      "_________________________________________________________________\n"
     ]
    }
   ],
   "source": [
    "model.summary()  # tf.keras.utils.plot_model(model, show_shapes=True)"
   ]
  },
  {
   "cell_type": "code",
   "execution_count": 10,
   "metadata": {
    "id": "MbMjOflQ9hE1"
   },
   "outputs": [],
   "source": [
    "# Model checkpoint callback\n",
    "cp_callback = tf.keras.callbacks.ModelCheckpoint(\n",
    "    model_save_path, verbose=1, save_weights_only=False)\n",
    "# Callback for early stopping\n",
    "es_callback = tf.keras.callbacks.EarlyStopping(patience=10, verbose=1)"
   ]
  },
  {
   "cell_type": "code",
   "execution_count": 11,
   "metadata": {
    "id": "c3Dac0M_9hE2"
   },
   "outputs": [],
   "source": [
    "# Model compilation\n",
    "model.compile(\n",
    "    optimizer='adam',\n",
    "    loss='sparse_categorical_crossentropy',\n",
    "    metrics=['accuracy']\n",
    ")"
   ]
  },
  {
   "cell_type": "markdown",
   "metadata": {
    "id": "7XI0j1Iu9hE2"
   },
   "source": [
    "# Model training"
   ]
  },
  {
   "cell_type": "code",
   "execution_count": 12,
   "metadata": {
    "colab": {
     "base_uri": "https://localhost:8080/"
    },
    "id": "WirBl-JE9hE3",
    "outputId": "71b30ca2-8294-4d9d-8aa2-800d90d399de",
    "scrolled": true
   },
   "outputs": [
    {
     "name": "stdout",
     "output_type": "stream",
     "text": [
      "Epoch 1/1000\n",
      "84/84 [==============================] - 4s 39ms/step - loss: 2.9221 - accuracy: 0.0695 - val_loss: 2.6953 - val_accuracy: 0.2339\n",
      "\n",
      "Epoch 00001: saving model to landmarksSequence\\landmarkClassifier.hdf5\n",
      "Epoch 2/1000\n",
      "84/84 [==============================] - 0s 5ms/step - loss: 2.6515 - accuracy: 0.1723 - val_loss: 2.2847 - val_accuracy: 0.3048\n",
      "\n",
      "Epoch 00002: saving model to landmarksSequence\\landmarkClassifier.hdf5\n",
      "Epoch 3/1000\n",
      "84/84 [==============================] - 0s 5ms/step - loss: 2.2913 - accuracy: 0.2332 - val_loss: 1.8624 - val_accuracy: 0.3835\n",
      "\n",
      "Epoch 00003: saving model to landmarksSequence\\landmarkClassifier.hdf5\n",
      "Epoch 4/1000\n",
      "84/84 [==============================] - 1s 6ms/step - loss: 1.9970 - accuracy: 0.2916 - val_loss: 1.5898 - val_accuracy: 0.5000\n",
      "\n",
      "Epoch 00004: saving model to landmarksSequence\\landmarkClassifier.hdf5\n",
      "Epoch 5/1000\n",
      "84/84 [==============================] - 1s 6ms/step - loss: 1.8263 - accuracy: 0.3346 - val_loss: 1.4236 - val_accuracy: 0.6339\n",
      "\n",
      "Epoch 00005: saving model to landmarksSequence\\landmarkClassifier.hdf5\n",
      "Epoch 6/1000\n",
      "84/84 [==============================] - 1s 6ms/step - loss: 1.6950 - accuracy: 0.3739 - val_loss: 1.3153 - val_accuracy: 0.6213\n",
      "\n",
      "Epoch 00006: saving model to landmarksSequence\\landmarkClassifier.hdf5\n",
      "Epoch 7/1000\n",
      "84/84 [==============================] - 0s 5ms/step - loss: 1.5924 - accuracy: 0.3965 - val_loss: 1.2243 - val_accuracy: 0.6565\n",
      "\n",
      "Epoch 00007: saving model to landmarksSequence\\landmarkClassifier.hdf5\n",
      "Epoch 8/1000\n",
      "84/84 [==============================] - 0s 5ms/step - loss: 1.5298 - accuracy: 0.4154 - val_loss: 1.1683 - val_accuracy: 0.7235\n",
      "\n",
      "Epoch 00008: saving model to landmarksSequence\\landmarkClassifier.hdf5\n",
      "Epoch 9/1000\n",
      "84/84 [==============================] - 0s 6ms/step - loss: 1.5012 - accuracy: 0.4287 - val_loss: 1.1216 - val_accuracy: 0.7183\n",
      "\n",
      "Epoch 00009: saving model to landmarksSequence\\landmarkClassifier.hdf5\n",
      "Epoch 10/1000\n",
      "84/84 [==============================] - 0s 6ms/step - loss: 1.4581 - accuracy: 0.4500 - val_loss: 1.0723 - val_accuracy: 0.7370\n",
      "\n",
      "Epoch 00010: saving model to landmarksSequence\\landmarkClassifier.hdf5\n",
      "Epoch 11/1000\n",
      "84/84 [==============================] - 0s 6ms/step - loss: 1.4304 - accuracy: 0.4449 - val_loss: 1.0420 - val_accuracy: 0.7417\n",
      "\n",
      "Epoch 00011: saving model to landmarksSequence\\landmarkClassifier.hdf5\n",
      "Epoch 12/1000\n",
      "84/84 [==============================] - 0s 5ms/step - loss: 1.4080 - accuracy: 0.4589 - val_loss: 1.0097 - val_accuracy: 0.7806\n",
      "\n",
      "Epoch 00012: saving model to landmarksSequence\\landmarkClassifier.hdf5\n",
      "Epoch 13/1000\n",
      "84/84 [==============================] - 0s 6ms/step - loss: 1.3788 - accuracy: 0.4745 - val_loss: 0.9756 - val_accuracy: 0.8257\n",
      "\n",
      "Epoch 00013: saving model to landmarksSequence\\landmarkClassifier.hdf5\n",
      "Epoch 14/1000\n",
      "84/84 [==============================] - 0s 6ms/step - loss: 1.3340 - accuracy: 0.4853 - val_loss: 0.9522 - val_accuracy: 0.7648\n",
      "\n",
      "Epoch 00014: saving model to landmarksSequence\\landmarkClassifier.hdf5\n",
      "Epoch 15/1000\n",
      "84/84 [==============================] - 1s 6ms/step - loss: 1.3192 - accuracy: 0.4985 - val_loss: 0.9236 - val_accuracy: 0.7917\n",
      "\n",
      "Epoch 00015: saving model to landmarksSequence\\landmarkClassifier.hdf5\n",
      "Epoch 16/1000\n",
      "84/84 [==============================] - 0s 6ms/step - loss: 1.2916 - accuracy: 0.5005 - val_loss: 0.8993 - val_accuracy: 0.8733\n",
      "\n",
      "Epoch 00016: saving model to landmarksSequence\\landmarkClassifier.hdf5\n",
      "Epoch 17/1000\n",
      "84/84 [==============================] - 0s 5ms/step - loss: 1.2818 - accuracy: 0.5068 - val_loss: 0.8864 - val_accuracy: 0.8020\n",
      "\n",
      "Epoch 00017: saving model to landmarksSequence\\landmarkClassifier.hdf5\n",
      "Epoch 18/1000\n",
      "84/84 [==============================] - 0s 6ms/step - loss: 1.2812 - accuracy: 0.5165 - val_loss: 0.8573 - val_accuracy: 0.8294\n",
      "\n",
      "Epoch 00018: saving model to landmarksSequence\\landmarkClassifier.hdf5\n",
      "Epoch 19/1000\n",
      "84/84 [==============================] - 0s 6ms/step - loss: 1.2595 - accuracy: 0.5234 - val_loss: 0.8432 - val_accuracy: 0.8502\n",
      "\n",
      "Epoch 00019: saving model to landmarksSequence\\landmarkClassifier.hdf5\n",
      "Epoch 20/1000\n",
      "84/84 [==============================] - 0s 5ms/step - loss: 1.2454 - accuracy: 0.5160 - val_loss: 0.8266 - val_accuracy: 0.8737\n",
      "\n",
      "Epoch 00020: saving model to landmarksSequence\\landmarkClassifier.hdf5\n",
      "Epoch 21/1000\n",
      "84/84 [==============================] - 0s 5ms/step - loss: 1.2381 - accuracy: 0.5273 - val_loss: 0.8238 - val_accuracy: 0.8200\n",
      "\n",
      "Epoch 00021: saving model to landmarksSequence\\landmarkClassifier.hdf5\n",
      "Epoch 22/1000\n",
      "84/84 [==============================] - 0s 5ms/step - loss: 1.2086 - accuracy: 0.5335 - val_loss: 0.7997 - val_accuracy: 0.8557\n",
      "\n",
      "Epoch 00022: saving model to landmarksSequence\\landmarkClassifier.hdf5\n",
      "Epoch 23/1000\n",
      "84/84 [==============================] - 0s 6ms/step - loss: 1.2177 - accuracy: 0.5349 - val_loss: 0.7819 - val_accuracy: 0.8385\n",
      "\n",
      "Epoch 00023: saving model to landmarksSequence\\landmarkClassifier.hdf5\n",
      "Epoch 24/1000\n",
      "84/84 [==============================] - 0s 5ms/step - loss: 1.1714 - accuracy: 0.5476 - val_loss: 0.7719 - val_accuracy: 0.8644\n",
      "\n",
      "Epoch 00024: saving model to landmarksSequence\\landmarkClassifier.hdf5\n",
      "Epoch 25/1000\n",
      "84/84 [==============================] - 1s 6ms/step - loss: 1.1969 - accuracy: 0.5515 - val_loss: 0.7615 - val_accuracy: 0.8552\n",
      "\n",
      "Epoch 00025: saving model to landmarksSequence\\landmarkClassifier.hdf5\n",
      "Epoch 26/1000\n",
      "84/84 [==============================] - 0s 6ms/step - loss: 1.1909 - accuracy: 0.5477 - val_loss: 0.7551 - val_accuracy: 0.8767\n",
      "\n",
      "Epoch 00026: saving model to landmarksSequence\\landmarkClassifier.hdf5\n",
      "Epoch 27/1000\n",
      "84/84 [==============================] - 0s 5ms/step - loss: 1.1660 - accuracy: 0.5553 - val_loss: 0.7459 - val_accuracy: 0.8587\n",
      "\n",
      "Epoch 00027: saving model to landmarksSequence\\landmarkClassifier.hdf5\n",
      "Epoch 28/1000\n",
      "84/84 [==============================] - 0s 5ms/step - loss: 1.1659 - accuracy: 0.5502 - val_loss: 0.7340 - val_accuracy: 0.8533\n",
      "\n",
      "Epoch 00028: saving model to landmarksSequence\\landmarkClassifier.hdf5\n",
      "Epoch 29/1000\n",
      "84/84 [==============================] - 1s 6ms/step - loss: 1.1693 - accuracy: 0.5578 - val_loss: 0.7315 - val_accuracy: 0.9089\n",
      "\n",
      "Epoch 00029: saving model to landmarksSequence\\landmarkClassifier.hdf5\n",
      "Epoch 30/1000\n",
      "84/84 [==============================] - 0s 6ms/step - loss: 1.1509 - accuracy: 0.5593 - val_loss: 0.7187 - val_accuracy: 0.9026\n",
      "\n",
      "Epoch 00030: saving model to landmarksSequence\\landmarkClassifier.hdf5\n",
      "Epoch 31/1000\n",
      "84/84 [==============================] - 0s 5ms/step - loss: 1.1506 - accuracy: 0.5575 - val_loss: 0.7082 - val_accuracy: 0.8685\n",
      "\n",
      "Epoch 00031: saving model to landmarksSequence\\landmarkClassifier.hdf5\n",
      "Epoch 32/1000\n",
      "84/84 [==============================] - 0s 5ms/step - loss: 1.1430 - accuracy: 0.5761 - val_loss: 0.7015 - val_accuracy: 0.9126\n",
      "\n",
      "Epoch 00032: saving model to landmarksSequence\\landmarkClassifier.hdf5\n",
      "Epoch 33/1000\n",
      "84/84 [==============================] - 0s 6ms/step - loss: 1.1290 - accuracy: 0.5920 - val_loss: 0.6906 - val_accuracy: 0.9165\n",
      "\n",
      "Epoch 00033: saving model to landmarksSequence\\landmarkClassifier.hdf5\n",
      "Epoch 34/1000\n",
      "84/84 [==============================] - 0s 5ms/step - loss: 1.1224 - accuracy: 0.5780 - val_loss: 0.6824 - val_accuracy: 0.9187\n",
      "\n",
      "Epoch 00034: saving model to landmarksSequence\\landmarkClassifier.hdf5\n",
      "Epoch 35/1000\n",
      "84/84 [==============================] - 0s 6ms/step - loss: 1.1198 - accuracy: 0.5817 - val_loss: 0.6796 - val_accuracy: 0.8902\n",
      "\n",
      "Epoch 00035: saving model to landmarksSequence\\landmarkClassifier.hdf5\n",
      "Epoch 36/1000\n",
      "84/84 [==============================] - 0s 6ms/step - loss: 1.1175 - accuracy: 0.5822 - val_loss: 0.6796 - val_accuracy: 0.8665\n",
      "\n",
      "Epoch 00036: saving model to landmarksSequence\\landmarkClassifier.hdf5\n",
      "Epoch 37/1000\n",
      "84/84 [==============================] - 0s 5ms/step - loss: 1.1160 - accuracy: 0.5778 - val_loss: 0.6596 - val_accuracy: 0.8696\n",
      "\n",
      "Epoch 00037: saving model to landmarksSequence\\landmarkClassifier.hdf5\n",
      "Epoch 38/1000\n",
      "84/84 [==============================] - 0s 6ms/step - loss: 1.1138 - accuracy: 0.5827 - val_loss: 0.6570 - val_accuracy: 0.8793\n",
      "\n",
      "Epoch 00038: saving model to landmarksSequence\\landmarkClassifier.hdf5\n",
      "Epoch 39/1000\n"
     ]
    },
    {
     "name": "stdout",
     "output_type": "stream",
     "text": [
      "84/84 [==============================] - 0s 6ms/step - loss: 1.0956 - accuracy: 0.5922 - val_loss: 0.6446 - val_accuracy: 0.8778\n",
      "\n",
      "Epoch 00039: saving model to landmarksSequence\\landmarkClassifier.hdf5\n",
      "Epoch 40/1000\n",
      "84/84 [==============================] - 0s 6ms/step - loss: 1.0947 - accuracy: 0.5859 - val_loss: 0.6299 - val_accuracy: 0.8807\n",
      "\n",
      "Epoch 00040: saving model to landmarksSequence\\landmarkClassifier.hdf5\n",
      "Epoch 41/1000\n",
      "84/84 [==============================] - 0s 6ms/step - loss: 1.1111 - accuracy: 0.5868 - val_loss: 0.6303 - val_accuracy: 0.9311\n",
      "\n",
      "Epoch 00041: saving model to landmarksSequence\\landmarkClassifier.hdf5\n",
      "Epoch 42/1000\n",
      "84/84 [==============================] - 0s 5ms/step - loss: 1.0870 - accuracy: 0.5933 - val_loss: 0.6325 - val_accuracy: 0.9185\n",
      "\n",
      "Epoch 00042: saving model to landmarksSequence\\landmarkClassifier.hdf5\n",
      "Epoch 43/1000\n",
      "84/84 [==============================] - 0s 6ms/step - loss: 1.0630 - accuracy: 0.5965 - val_loss: 0.6331 - val_accuracy: 0.8378\n",
      "\n",
      "Epoch 00043: saving model to landmarksSequence\\landmarkClassifier.hdf5\n",
      "Epoch 44/1000\n",
      "84/84 [==============================] - 0s 6ms/step - loss: 1.0716 - accuracy: 0.5925 - val_loss: 0.6307 - val_accuracy: 0.9098\n",
      "\n",
      "Epoch 00044: saving model to landmarksSequence\\landmarkClassifier.hdf5\n",
      "Epoch 45/1000\n",
      "84/84 [==============================] - 0s 6ms/step - loss: 1.0550 - accuracy: 0.6121 - val_loss: 0.6087 - val_accuracy: 0.9198\n",
      "\n",
      "Epoch 00045: saving model to landmarksSequence\\landmarkClassifier.hdf5\n",
      "Epoch 46/1000\n",
      "84/84 [==============================] - 0s 5ms/step - loss: 1.0886 - accuracy: 0.5956 - val_loss: 0.6113 - val_accuracy: 0.9080\n",
      "\n",
      "Epoch 00046: saving model to landmarksSequence\\landmarkClassifier.hdf5\n",
      "Epoch 47/1000\n",
      "84/84 [==============================] - 0s 5ms/step - loss: 1.0410 - accuracy: 0.6063 - val_loss: 0.6038 - val_accuracy: 0.8787\n",
      "\n",
      "Epoch 00047: saving model to landmarksSequence\\landmarkClassifier.hdf5\n",
      "Epoch 48/1000\n",
      "84/84 [==============================] - 0s 6ms/step - loss: 1.0409 - accuracy: 0.6072 - val_loss: 0.5940 - val_accuracy: 0.8822\n",
      "\n",
      "Epoch 00048: saving model to landmarksSequence\\landmarkClassifier.hdf5\n",
      "Epoch 49/1000\n",
      "84/84 [==============================] - 1s 6ms/step - loss: 1.0655 - accuracy: 0.6033 - val_loss: 0.5921 - val_accuracy: 0.8844\n",
      "\n",
      "Epoch 00049: saving model to landmarksSequence\\landmarkClassifier.hdf5\n",
      "Epoch 50/1000\n",
      "84/84 [==============================] - 1s 6ms/step - loss: 1.0607 - accuracy: 0.6105 - val_loss: 0.5841 - val_accuracy: 0.8804\n",
      "\n",
      "Epoch 00050: saving model to landmarksSequence\\landmarkClassifier.hdf5\n",
      "Epoch 51/1000\n",
      "84/84 [==============================] - 0s 6ms/step - loss: 1.0376 - accuracy: 0.6114 - val_loss: 0.5791 - val_accuracy: 0.9263\n",
      "\n",
      "Epoch 00051: saving model to landmarksSequence\\landmarkClassifier.hdf5\n",
      "Epoch 52/1000\n",
      "84/84 [==============================] - 0s 5ms/step - loss: 1.0574 - accuracy: 0.6024 - val_loss: 0.5826 - val_accuracy: 0.9280\n",
      "\n",
      "Epoch 00052: saving model to landmarksSequence\\landmarkClassifier.hdf5\n",
      "Epoch 53/1000\n",
      "84/84 [==============================] - 1s 6ms/step - loss: 1.0409 - accuracy: 0.6156 - val_loss: 0.5804 - val_accuracy: 0.9085\n",
      "\n",
      "Epoch 00053: saving model to landmarksSequence\\landmarkClassifier.hdf5\n",
      "Epoch 54/1000\n",
      "84/84 [==============================] - 1s 6ms/step - loss: 1.0154 - accuracy: 0.6216 - val_loss: 0.5598 - val_accuracy: 0.9107\n",
      "\n",
      "Epoch 00054: saving model to landmarksSequence\\landmarkClassifier.hdf5\n",
      "Epoch 55/1000\n",
      "84/84 [==============================] - 1s 6ms/step - loss: 1.0457 - accuracy: 0.6150 - val_loss: 0.5573 - val_accuracy: 0.8798\n",
      "\n",
      "Epoch 00055: saving model to landmarksSequence\\landmarkClassifier.hdf5\n",
      "Epoch 56/1000\n",
      "84/84 [==============================] - 1s 6ms/step - loss: 1.0288 - accuracy: 0.6245 - val_loss: 0.5513 - val_accuracy: 0.8796\n",
      "\n",
      "Epoch 00056: saving model to landmarksSequence\\landmarkClassifier.hdf5\n",
      "Epoch 57/1000\n",
      "84/84 [==============================] - 0s 5ms/step - loss: 1.0273 - accuracy: 0.6144 - val_loss: 0.5442 - val_accuracy: 0.8967\n",
      "\n",
      "Epoch 00057: saving model to landmarksSequence\\landmarkClassifier.hdf5\n",
      "Epoch 58/1000\n",
      "84/84 [==============================] - 0s 6ms/step - loss: 1.0290 - accuracy: 0.6203 - val_loss: 0.5488 - val_accuracy: 0.9289\n",
      "\n",
      "Epoch 00058: saving model to landmarksSequence\\landmarkClassifier.hdf5\n",
      "Epoch 59/1000\n",
      "84/84 [==============================] - 0s 6ms/step - loss: 1.0439 - accuracy: 0.6130 - val_loss: 0.5515 - val_accuracy: 0.9061\n",
      "\n",
      "Epoch 00059: saving model to landmarksSequence\\landmarkClassifier.hdf5\n",
      "Epoch 60/1000\n",
      "84/84 [==============================] - 1s 6ms/step - loss: 1.0128 - accuracy: 0.6194 - val_loss: 0.5328 - val_accuracy: 0.9430\n",
      "\n",
      "Epoch 00060: saving model to landmarksSequence\\landmarkClassifier.hdf5\n",
      "Epoch 61/1000\n",
      "84/84 [==============================] - 0s 5ms/step - loss: 1.0029 - accuracy: 0.6296 - val_loss: 0.5285 - val_accuracy: 0.9363\n",
      "\n",
      "Epoch 00061: saving model to landmarksSequence\\landmarkClassifier.hdf5\n",
      "Epoch 62/1000\n",
      "84/84 [==============================] - 0s 5ms/step - loss: 1.0088 - accuracy: 0.6242 - val_loss: 0.5231 - val_accuracy: 0.9424\n",
      "\n",
      "Epoch 00062: saving model to landmarksSequence\\landmarkClassifier.hdf5\n",
      "Epoch 63/1000\n",
      "84/84 [==============================] - 0s 5ms/step - loss: 1.0125 - accuracy: 0.6242 - val_loss: 0.5215 - val_accuracy: 0.9428\n",
      "\n",
      "Epoch 00063: saving model to landmarksSequence\\landmarkClassifier.hdf5\n",
      "Epoch 64/1000\n",
      "84/84 [==============================] - 0s 6ms/step - loss: 1.0001 - accuracy: 0.6287 - val_loss: 0.5219 - val_accuracy: 0.9446\n",
      "\n",
      "Epoch 00064: saving model to landmarksSequence\\landmarkClassifier.hdf5\n",
      "Epoch 65/1000\n",
      "84/84 [==============================] - 0s 6ms/step - loss: 1.0130 - accuracy: 0.6362 - val_loss: 0.5245 - val_accuracy: 0.9372\n",
      "\n",
      "Epoch 00065: saving model to landmarksSequence\\landmarkClassifier.hdf5\n",
      "Epoch 66/1000\n",
      "84/84 [==============================] - 0s 6ms/step - loss: 1.0136 - accuracy: 0.6242 - val_loss: 0.5147 - val_accuracy: 0.9076\n",
      "\n",
      "Epoch 00066: saving model to landmarksSequence\\landmarkClassifier.hdf5\n",
      "Epoch 67/1000\n",
      "84/84 [==============================] - 0s 5ms/step - loss: 0.9867 - accuracy: 0.6302 - val_loss: 0.5121 - val_accuracy: 0.9348\n",
      "\n",
      "Epoch 00067: saving model to landmarksSequence\\landmarkClassifier.hdf5\n",
      "Epoch 68/1000\n",
      "84/84 [==============================] - 0s 6ms/step - loss: 1.0046 - accuracy: 0.6339 - val_loss: 0.5028 - val_accuracy: 0.9172\n",
      "\n",
      "Epoch 00068: saving model to landmarksSequence\\landmarkClassifier.hdf5\n",
      "Epoch 69/1000\n",
      "84/84 [==============================] - 1s 6ms/step - loss: 0.9948 - accuracy: 0.6299 - val_loss: 0.4963 - val_accuracy: 0.9359\n",
      "\n",
      "Epoch 00069: saving model to landmarksSequence\\landmarkClassifier.hdf5\n",
      "Epoch 70/1000\n",
      "84/84 [==============================] - 0s 6ms/step - loss: 0.9767 - accuracy: 0.6480 - val_loss: 0.4948 - val_accuracy: 0.9398\n",
      "\n",
      "Epoch 00070: saving model to landmarksSequence\\landmarkClassifier.hdf5\n",
      "Epoch 71/1000\n",
      "84/84 [==============================] - 0s 5ms/step - loss: 1.0074 - accuracy: 0.6261 - val_loss: 0.5063 - val_accuracy: 0.9309\n",
      "\n",
      "Epoch 00071: saving model to landmarksSequence\\landmarkClassifier.hdf5\n",
      "Epoch 72/1000\n",
      "84/84 [==============================] - 0s 5ms/step - loss: 1.0121 - accuracy: 0.6257 - val_loss: 0.5038 - val_accuracy: 0.8802\n",
      "\n",
      "Epoch 00072: saving model to landmarksSequence\\landmarkClassifier.hdf5\n",
      "Epoch 73/1000\n",
      "84/84 [==============================] - 0s 6ms/step - loss: 0.9864 - accuracy: 0.6345 - val_loss: 0.4909 - val_accuracy: 0.9411\n",
      "\n",
      "Epoch 00073: saving model to landmarksSequence\\landmarkClassifier.hdf5\n",
      "Epoch 74/1000\n",
      "84/84 [==============================] - 0s 6ms/step - loss: 1.0050 - accuracy: 0.6274 - val_loss: 0.4864 - val_accuracy: 0.9406\n",
      "\n",
      "Epoch 00074: saving model to landmarksSequence\\landmarkClassifier.hdf5\n",
      "Epoch 75/1000\n",
      "84/84 [==============================] - 1s 6ms/step - loss: 1.0084 - accuracy: 0.6350 - val_loss: 0.4818 - val_accuracy: 0.9452\n",
      "\n",
      "Epoch 00075: saving model to landmarksSequence\\landmarkClassifier.hdf5\n",
      "Epoch 76/1000\n",
      "84/84 [==============================] - 0s 5ms/step - loss: 0.9907 - accuracy: 0.6359 - val_loss: 0.4888 - val_accuracy: 0.9383\n",
      "\n",
      "Epoch 00076: saving model to landmarksSequence\\landmarkClassifier.hdf5\n",
      "Epoch 77/1000\n"
     ]
    },
    {
     "name": "stdout",
     "output_type": "stream",
     "text": [
      "84/84 [==============================] - 0s 6ms/step - loss: 0.9968 - accuracy: 0.6435 - val_loss: 0.4788 - val_accuracy: 0.9420\n",
      "\n",
      "Epoch 00077: saving model to landmarksSequence\\landmarkClassifier.hdf5\n",
      "Epoch 78/1000\n",
      "84/84 [==============================] - 1s 6ms/step - loss: 0.9896 - accuracy: 0.6409 - val_loss: 0.4735 - val_accuracy: 0.9480\n",
      "\n",
      "Epoch 00078: saving model to landmarksSequence\\landmarkClassifier.hdf5\n",
      "Epoch 79/1000\n",
      "84/84 [==============================] - 1s 6ms/step - loss: 0.9803 - accuracy: 0.6476 - val_loss: 0.4737 - val_accuracy: 0.9117\n",
      "\n",
      "Epoch 00079: saving model to landmarksSequence\\landmarkClassifier.hdf5\n",
      "Epoch 80/1000\n",
      "84/84 [==============================] - 1s 6ms/step - loss: 0.9766 - accuracy: 0.6444 - val_loss: 0.4731 - val_accuracy: 0.9419\n",
      "\n",
      "Epoch 00080: saving model to landmarksSequence\\landmarkClassifier.hdf5\n",
      "Epoch 81/1000\n",
      "84/84 [==============================] - 1s 6ms/step - loss: 0.9453 - accuracy: 0.6516 - val_loss: 0.4630 - val_accuracy: 0.9459\n",
      "\n",
      "Epoch 00081: saving model to landmarksSequence\\landmarkClassifier.hdf5\n",
      "Epoch 82/1000\n",
      "84/84 [==============================] - 0s 6ms/step - loss: 0.9833 - accuracy: 0.6432 - val_loss: 0.4652 - val_accuracy: 0.9439\n",
      "\n",
      "Epoch 00082: saving model to landmarksSequence\\landmarkClassifier.hdf5\n",
      "Epoch 83/1000\n",
      "84/84 [==============================] - 1s 6ms/step - loss: 0.9946 - accuracy: 0.6441 - val_loss: 0.4628 - val_accuracy: 0.9383\n",
      "\n",
      "Epoch 00083: saving model to landmarksSequence\\landmarkClassifier.hdf5\n",
      "Epoch 84/1000\n",
      "84/84 [==============================] - 0s 6ms/step - loss: 0.9668 - accuracy: 0.6476 - val_loss: 0.4553 - val_accuracy: 0.9465\n",
      "\n",
      "Epoch 00084: saving model to landmarksSequence\\landmarkClassifier.hdf5\n",
      "Epoch 85/1000\n",
      "84/84 [==============================] - 0s 5ms/step - loss: 0.9632 - accuracy: 0.6483 - val_loss: 0.4603 - val_accuracy: 0.9400\n",
      "\n",
      "Epoch 00085: saving model to landmarksSequence\\landmarkClassifier.hdf5\n",
      "Epoch 86/1000\n",
      "84/84 [==============================] - 0s 5ms/step - loss: 0.9656 - accuracy: 0.6452 - val_loss: 0.4572 - val_accuracy: 0.9437\n",
      "\n",
      "Epoch 00086: saving model to landmarksSequence\\landmarkClassifier.hdf5\n",
      "Epoch 87/1000\n",
      "84/84 [==============================] - 0s 5ms/step - loss: 0.9514 - accuracy: 0.6512 - val_loss: 0.4510 - val_accuracy: 0.9417\n",
      "\n",
      "Epoch 00087: saving model to landmarksSequence\\landmarkClassifier.hdf5\n",
      "Epoch 88/1000\n",
      "84/84 [==============================] - 0s 6ms/step - loss: 0.9770 - accuracy: 0.6358 - val_loss: 0.4450 - val_accuracy: 0.9454\n",
      "\n",
      "Epoch 00088: saving model to landmarksSequence\\landmarkClassifier.hdf5\n",
      "Epoch 89/1000\n",
      "84/84 [==============================] - 1s 6ms/step - loss: 0.9451 - accuracy: 0.6523 - val_loss: 0.4428 - val_accuracy: 0.9463\n",
      "\n",
      "Epoch 00089: saving model to landmarksSequence\\landmarkClassifier.hdf5\n",
      "Epoch 90/1000\n",
      "84/84 [==============================] - 0s 6ms/step - loss: 0.9451 - accuracy: 0.6533 - val_loss: 0.4500 - val_accuracy: 0.9378\n",
      "\n",
      "Epoch 00090: saving model to landmarksSequence\\landmarkClassifier.hdf5\n",
      "Epoch 91/1000\n",
      "84/84 [==============================] - 0s 5ms/step - loss: 0.9392 - accuracy: 0.6520 - val_loss: 0.4428 - val_accuracy: 0.9411\n",
      "\n",
      "Epoch 00091: saving model to landmarksSequence\\landmarkClassifier.hdf5\n",
      "Epoch 92/1000\n",
      "84/84 [==============================] - 0s 6ms/step - loss: 0.9442 - accuracy: 0.6526 - val_loss: 0.4391 - val_accuracy: 0.9407\n",
      "\n",
      "Epoch 00092: saving model to landmarksSequence\\landmarkClassifier.hdf5\n",
      "Epoch 93/1000\n",
      "84/84 [==============================] - 1s 6ms/step - loss: 0.9431 - accuracy: 0.6602 - val_loss: 0.4316 - val_accuracy: 0.9452\n",
      "\n",
      "Epoch 00093: saving model to landmarksSequence\\landmarkClassifier.hdf5\n",
      "Epoch 94/1000\n",
      "84/84 [==============================] - 0s 6ms/step - loss: 0.9318 - accuracy: 0.6668 - val_loss: 0.4378 - val_accuracy: 0.9415\n",
      "\n",
      "Epoch 00094: saving model to landmarksSequence\\landmarkClassifier.hdf5\n",
      "Epoch 95/1000\n",
      "84/84 [==============================] - 1s 6ms/step - loss: 0.9235 - accuracy: 0.6691 - val_loss: 0.4439 - val_accuracy: 0.9369\n",
      "\n",
      "Epoch 00095: saving model to landmarksSequence\\landmarkClassifier.hdf5\n",
      "Epoch 96/1000\n",
      "84/84 [==============================] - 0s 5ms/step - loss: 0.9374 - accuracy: 0.6592 - val_loss: 0.4423 - val_accuracy: 0.9389\n",
      "\n",
      "Epoch 00096: saving model to landmarksSequence\\landmarkClassifier.hdf5\n",
      "Epoch 97/1000\n",
      "84/84 [==============================] - 0s 5ms/step - loss: 0.9384 - accuracy: 0.6527 - val_loss: 0.4307 - val_accuracy: 0.9365\n",
      "\n",
      "Epoch 00097: saving model to landmarksSequence\\landmarkClassifier.hdf5\n",
      "Epoch 98/1000\n",
      "84/84 [==============================] - 0s 6ms/step - loss: 0.9461 - accuracy: 0.6590 - val_loss: 0.4203 - val_accuracy: 0.9424\n",
      "\n",
      "Epoch 00098: saving model to landmarksSequence\\landmarkClassifier.hdf5\n",
      "Epoch 99/1000\n",
      "84/84 [==============================] - 0s 6ms/step - loss: 0.9492 - accuracy: 0.6571 - val_loss: 0.4372 - val_accuracy: 0.9398\n",
      "\n",
      "Epoch 00099: saving model to landmarksSequence\\landmarkClassifier.hdf5\n",
      "Epoch 100/1000\n",
      "84/84 [==============================] - 0s 6ms/step - loss: 0.9211 - accuracy: 0.6634 - val_loss: 0.4150 - val_accuracy: 0.9422\n",
      "\n",
      "Epoch 00100: saving model to landmarksSequence\\landmarkClassifier.hdf5\n",
      "Epoch 101/1000\n",
      "84/84 [==============================] - 0s 5ms/step - loss: 0.9294 - accuracy: 0.6588 - val_loss: 0.4155 - val_accuracy: 0.9422\n",
      "\n",
      "Epoch 00101: saving model to landmarksSequence\\landmarkClassifier.hdf5\n",
      "Epoch 102/1000\n",
      "84/84 [==============================] - 1s 6ms/step - loss: 0.9538 - accuracy: 0.6568 - val_loss: 0.4301 - val_accuracy: 0.9396\n",
      "\n",
      "Epoch 00102: saving model to landmarksSequence\\landmarkClassifier.hdf5\n",
      "Epoch 103/1000\n",
      "84/84 [==============================] - 1s 6ms/step - loss: 0.9413 - accuracy: 0.6602 - val_loss: 0.4197 - val_accuracy: 0.9444\n",
      "\n",
      "Epoch 00103: saving model to landmarksSequence\\landmarkClassifier.hdf5\n",
      "Epoch 104/1000\n",
      "84/84 [==============================] - 0s 6ms/step - loss: 0.9174 - accuracy: 0.6720 - val_loss: 0.4244 - val_accuracy: 0.9363\n",
      "\n",
      "Epoch 00104: saving model to landmarksSequence\\landmarkClassifier.hdf5\n",
      "Epoch 105/1000\n",
      "84/84 [==============================] - 0s 6ms/step - loss: 0.9149 - accuracy: 0.6710 - val_loss: 0.4125 - val_accuracy: 0.9404\n",
      "\n",
      "Epoch 00105: saving model to landmarksSequence\\landmarkClassifier.hdf5\n",
      "Epoch 106/1000\n",
      "84/84 [==============================] - 0s 5ms/step - loss: 0.9205 - accuracy: 0.6698 - val_loss: 0.4167 - val_accuracy: 0.9424\n",
      "\n",
      "Epoch 00106: saving model to landmarksSequence\\landmarkClassifier.hdf5\n",
      "Epoch 107/1000\n",
      "84/84 [==============================] - 1s 6ms/step - loss: 0.9463 - accuracy: 0.6629 - val_loss: 0.4183 - val_accuracy: 0.9391\n",
      "\n",
      "Epoch 00107: saving model to landmarksSequence\\landmarkClassifier.hdf5\n",
      "Epoch 108/1000\n",
      "84/84 [==============================] - 0s 6ms/step - loss: 0.9069 - accuracy: 0.6761 - val_loss: 0.4238 - val_accuracy: 0.9413\n",
      "\n",
      "Epoch 00108: saving model to landmarksSequence\\landmarkClassifier.hdf5\n",
      "Epoch 109/1000\n",
      "84/84 [==============================] - 0s 6ms/step - loss: 0.9082 - accuracy: 0.6691 - val_loss: 0.4100 - val_accuracy: 0.9428\n",
      "\n",
      "Epoch 00109: saving model to landmarksSequence\\landmarkClassifier.hdf5\n",
      "Epoch 110/1000\n",
      "84/84 [==============================] - 0s 5ms/step - loss: 0.9260 - accuracy: 0.6581 - val_loss: 0.4070 - val_accuracy: 0.9430\n",
      "\n",
      "Epoch 00110: saving model to landmarksSequence\\landmarkClassifier.hdf5\n",
      "Epoch 111/1000\n",
      "84/84 [==============================] - 0s 6ms/step - loss: 0.9019 - accuracy: 0.6723 - val_loss: 0.4089 - val_accuracy: 0.9450\n",
      "\n",
      "Epoch 00111: saving model to landmarksSequence\\landmarkClassifier.hdf5\n",
      "Epoch 112/1000\n",
      "84/84 [==============================] - 0s 5ms/step - loss: 0.9126 - accuracy: 0.6708 - val_loss: 0.4160 - val_accuracy: 0.9369\n",
      "\n",
      "Epoch 00112: saving model to landmarksSequence\\landmarkClassifier.hdf5\n",
      "Epoch 113/1000\n",
      "84/84 [==============================] - 1s 6ms/step - loss: 0.9289 - accuracy: 0.6667 - val_loss: 0.3995 - val_accuracy: 0.9415\n",
      "\n",
      "Epoch 00113: saving model to landmarksSequence\\landmarkClassifier.hdf5\n",
      "Epoch 114/1000\n",
      "84/84 [==============================] - 1s 6ms/step - loss: 0.9309 - accuracy: 0.6682 - val_loss: 0.4003 - val_accuracy: 0.9363\n",
      "\n",
      "Epoch 00114: saving model to landmarksSequence\\landmarkClassifier.hdf5\n",
      "Epoch 115/1000\n"
     ]
    },
    {
     "name": "stdout",
     "output_type": "stream",
     "text": [
      "84/84 [==============================] - 0s 5ms/step - loss: 0.9108 - accuracy: 0.6717 - val_loss: 0.4083 - val_accuracy: 0.9420\n",
      "\n",
      "Epoch 00115: saving model to landmarksSequence\\landmarkClassifier.hdf5\n",
      "Epoch 116/1000\n",
      "84/84 [==============================] - 0s 6ms/step - loss: 0.8953 - accuracy: 0.6777 - val_loss: 0.3994 - val_accuracy: 0.9450\n",
      "\n",
      "Epoch 00116: saving model to landmarksSequence\\landmarkClassifier.hdf5\n",
      "Epoch 117/1000\n",
      "84/84 [==============================] - 1s 6ms/step - loss: 0.9252 - accuracy: 0.6674 - val_loss: 0.3909 - val_accuracy: 0.9485\n",
      "\n",
      "Epoch 00117: saving model to landmarksSequence\\landmarkClassifier.hdf5\n",
      "Epoch 118/1000\n",
      "84/84 [==============================] - 1s 6ms/step - loss: 0.8883 - accuracy: 0.6824 - val_loss: 0.3871 - val_accuracy: 0.9413\n",
      "\n",
      "Epoch 00118: saving model to landmarksSequence\\landmarkClassifier.hdf5\n",
      "Epoch 119/1000\n",
      "84/84 [==============================] - 0s 5ms/step - loss: 0.9506 - accuracy: 0.6543 - val_loss: 0.3977 - val_accuracy: 0.9452\n",
      "\n",
      "Epoch 00119: saving model to landmarksSequence\\landmarkClassifier.hdf5\n",
      "Epoch 120/1000\n",
      "84/84 [==============================] - 0s 5ms/step - loss: 0.9034 - accuracy: 0.6705 - val_loss: 0.4031 - val_accuracy: 0.9422\n",
      "\n",
      "Epoch 00120: saving model to landmarksSequence\\landmarkClassifier.hdf5\n",
      "Epoch 121/1000\n",
      "84/84 [==============================] - 0s 6ms/step - loss: 0.9055 - accuracy: 0.6690 - val_loss: 0.4025 - val_accuracy: 0.9435\n",
      "\n",
      "Epoch 00121: saving model to landmarksSequence\\landmarkClassifier.hdf5\n",
      "Epoch 122/1000\n",
      "84/84 [==============================] - 1s 6ms/step - loss: 0.9062 - accuracy: 0.6740 - val_loss: 0.3970 - val_accuracy: 0.9415\n",
      "\n",
      "Epoch 00122: saving model to landmarksSequence\\landmarkClassifier.hdf5\n",
      "Epoch 123/1000\n",
      "84/84 [==============================] - 0s 6ms/step - loss: 0.9202 - accuracy: 0.6663 - val_loss: 0.3994 - val_accuracy: 0.9446\n",
      "\n",
      "Epoch 00123: saving model to landmarksSequence\\landmarkClassifier.hdf5\n",
      "Epoch 124/1000\n",
      "84/84 [==============================] - 0s 6ms/step - loss: 0.8911 - accuracy: 0.6722 - val_loss: 0.4031 - val_accuracy: 0.9396\n",
      "\n",
      "Epoch 00124: saving model to landmarksSequence\\landmarkClassifier.hdf5\n",
      "Epoch 125/1000\n",
      "84/84 [==============================] - 0s 5ms/step - loss: 0.9179 - accuracy: 0.6739 - val_loss: 0.3973 - val_accuracy: 0.9461\n",
      "\n",
      "Epoch 00125: saving model to landmarksSequence\\landmarkClassifier.hdf5\n",
      "Epoch 126/1000\n",
      "84/84 [==============================] - 0s 5ms/step - loss: 0.8935 - accuracy: 0.6776 - val_loss: 0.3961 - val_accuracy: 0.9356\n",
      "\n",
      "Epoch 00126: saving model to landmarksSequence\\landmarkClassifier.hdf5\n",
      "Epoch 127/1000\n",
      "84/84 [==============================] - 0s 6ms/step - loss: 0.8900 - accuracy: 0.6778 - val_loss: 0.3834 - val_accuracy: 0.9467\n",
      "\n",
      "Epoch 00127: saving model to landmarksSequence\\landmarkClassifier.hdf5\n",
      "Epoch 128/1000\n",
      "84/84 [==============================] - 1s 6ms/step - loss: 0.8856 - accuracy: 0.6839 - val_loss: 0.3872 - val_accuracy: 0.9452\n",
      "\n",
      "Epoch 00128: saving model to landmarksSequence\\landmarkClassifier.hdf5\n",
      "Epoch 129/1000\n",
      "84/84 [==============================] - 0s 6ms/step - loss: 0.8946 - accuracy: 0.6787 - val_loss: 0.3862 - val_accuracy: 0.9407\n",
      "\n",
      "Epoch 00129: saving model to landmarksSequence\\landmarkClassifier.hdf5\n",
      "Epoch 130/1000\n",
      "84/84 [==============================] - 0s 5ms/step - loss: 0.8648 - accuracy: 0.6937 - val_loss: 0.3857 - val_accuracy: 0.9433\n",
      "\n",
      "Epoch 00130: saving model to landmarksSequence\\landmarkClassifier.hdf5\n",
      "Epoch 131/1000\n",
      "84/84 [==============================] - 0s 6ms/step - loss: 0.8799 - accuracy: 0.6799 - val_loss: 0.3809 - val_accuracy: 0.9450\n",
      "\n",
      "Epoch 00131: saving model to landmarksSequence\\landmarkClassifier.hdf5\n",
      "Epoch 132/1000\n",
      "84/84 [==============================] - 0s 6ms/step - loss: 0.8998 - accuracy: 0.6707 - val_loss: 0.3907 - val_accuracy: 0.9443\n",
      "\n",
      "Epoch 00132: saving model to landmarksSequence\\landmarkClassifier.hdf5\n",
      "Epoch 133/1000\n",
      "84/84 [==============================] - 0s 6ms/step - loss: 0.8929 - accuracy: 0.6826 - val_loss: 0.3788 - val_accuracy: 0.9463\n",
      "\n",
      "Epoch 00133: saving model to landmarksSequence\\landmarkClassifier.hdf5\n",
      "Epoch 134/1000\n",
      "84/84 [==============================] - 0s 6ms/step - loss: 0.8986 - accuracy: 0.6805 - val_loss: 0.3843 - val_accuracy: 0.9420\n",
      "\n",
      "Epoch 00134: saving model to landmarksSequence\\landmarkClassifier.hdf5\n",
      "Epoch 135/1000\n",
      "84/84 [==============================] - 0s 5ms/step - loss: 0.8840 - accuracy: 0.6810 - val_loss: 0.3748 - val_accuracy: 0.9493\n",
      "\n",
      "Epoch 00135: saving model to landmarksSequence\\landmarkClassifier.hdf5\n",
      "Epoch 136/1000\n",
      "84/84 [==============================] - 0s 6ms/step - loss: 0.8800 - accuracy: 0.6769 - val_loss: 0.3847 - val_accuracy: 0.9411\n",
      "\n",
      "Epoch 00136: saving model to landmarksSequence\\landmarkClassifier.hdf5\n",
      "Epoch 137/1000\n",
      "84/84 [==============================] - 0s 6ms/step - loss: 0.9186 - accuracy: 0.6756 - val_loss: 0.3846 - val_accuracy: 0.9411\n",
      "\n",
      "Epoch 00137: saving model to landmarksSequence\\landmarkClassifier.hdf5\n",
      "Epoch 138/1000\n",
      "84/84 [==============================] - 1s 6ms/step - loss: 0.8903 - accuracy: 0.6759 - val_loss: 0.3771 - val_accuracy: 0.9452\n",
      "\n",
      "Epoch 00138: saving model to landmarksSequence\\landmarkClassifier.hdf5\n",
      "Epoch 139/1000\n",
      "84/84 [==============================] - 0s 6ms/step - loss: 0.8930 - accuracy: 0.6719 - val_loss: 0.3823 - val_accuracy: 0.9394\n",
      "\n",
      "Epoch 00139: saving model to landmarksSequence\\landmarkClassifier.hdf5\n",
      "Epoch 140/1000\n",
      "84/84 [==============================] - 0s 5ms/step - loss: 0.8899 - accuracy: 0.6761 - val_loss: 0.3765 - val_accuracy: 0.9415\n",
      "\n",
      "Epoch 00140: saving model to landmarksSequence\\landmarkClassifier.hdf5\n",
      "Epoch 141/1000\n",
      "84/84 [==============================] - 1s 6ms/step - loss: 0.8846 - accuracy: 0.6765 - val_loss: 0.3719 - val_accuracy: 0.9443\n",
      "\n",
      "Epoch 00141: saving model to landmarksSequence\\landmarkClassifier.hdf5\n",
      "Epoch 142/1000\n",
      "84/84 [==============================] - 0s 6ms/step - loss: 0.8817 - accuracy: 0.6811 - val_loss: 0.3696 - val_accuracy: 0.9470\n",
      "\n",
      "Epoch 00142: saving model to landmarksSequence\\landmarkClassifier.hdf5\n",
      "Epoch 143/1000\n",
      "84/84 [==============================] - 1s 6ms/step - loss: 0.8648 - accuracy: 0.6809 - val_loss: 0.3729 - val_accuracy: 0.9424\n",
      "\n",
      "Epoch 00143: saving model to landmarksSequence\\landmarkClassifier.hdf5\n",
      "Epoch 144/1000\n",
      "84/84 [==============================] - 0s 6ms/step - loss: 0.8794 - accuracy: 0.6862 - val_loss: 0.3690 - val_accuracy: 0.9439\n",
      "\n",
      "Epoch 00144: saving model to landmarksSequence\\landmarkClassifier.hdf5\n",
      "Epoch 145/1000\n",
      "84/84 [==============================] - 0s 5ms/step - loss: 0.8721 - accuracy: 0.6870 - val_loss: 0.3752 - val_accuracy: 0.9407\n",
      "\n",
      "Epoch 00145: saving model to landmarksSequence\\landmarkClassifier.hdf5\n",
      "Epoch 146/1000\n",
      "84/84 [==============================] - 1s 6ms/step - loss: 0.8717 - accuracy: 0.6871 - val_loss: 0.3617 - val_accuracy: 0.9476\n",
      "\n",
      "Epoch 00146: saving model to landmarksSequence\\landmarkClassifier.hdf5\n",
      "Epoch 147/1000\n",
      "84/84 [==============================] - 0s 5ms/step - loss: 0.8702 - accuracy: 0.6860 - val_loss: 0.3746 - val_accuracy: 0.9417\n",
      "\n",
      "Epoch 00147: saving model to landmarksSequence\\landmarkClassifier.hdf5\n",
      "Epoch 148/1000\n",
      "84/84 [==============================] - 1s 6ms/step - loss: 0.8779 - accuracy: 0.6875 - val_loss: 0.3725 - val_accuracy: 0.9459\n",
      "\n",
      "Epoch 00148: saving model to landmarksSequence\\landmarkClassifier.hdf5\n",
      "Epoch 149/1000\n",
      "84/84 [==============================] - 0s 6ms/step - loss: 0.8837 - accuracy: 0.6815 - val_loss: 0.3695 - val_accuracy: 0.9441\n",
      "\n",
      "Epoch 00149: saving model to landmarksSequence\\landmarkClassifier.hdf5\n",
      "Epoch 150/1000\n",
      "84/84 [==============================] - 0s 5ms/step - loss: 0.8616 - accuracy: 0.7002 - val_loss: 0.3634 - val_accuracy: 0.9437\n",
      "\n",
      "Epoch 00150: saving model to landmarksSequence\\landmarkClassifier.hdf5\n",
      "Epoch 151/1000\n",
      "84/84 [==============================] - 1s 6ms/step - loss: 0.8746 - accuracy: 0.6737 - val_loss: 0.3719 - val_accuracy: 0.9350\n",
      "\n",
      "Epoch 00151: saving model to landmarksSequence\\landmarkClassifier.hdf5\n",
      "Epoch 152/1000\n",
      "84/84 [==============================] - 0s 6ms/step - loss: 0.9041 - accuracy: 0.6763 - val_loss: 0.3640 - val_accuracy: 0.9404\n",
      "\n",
      "Epoch 00152: saving model to landmarksSequence\\landmarkClassifier.hdf5\n",
      "Epoch 153/1000\n"
     ]
    },
    {
     "name": "stdout",
     "output_type": "stream",
     "text": [
      "84/84 [==============================] - 1s 6ms/step - loss: 0.8704 - accuracy: 0.6815 - val_loss: 0.3633 - val_accuracy: 0.9419\n",
      "\n",
      "Epoch 00153: saving model to landmarksSequence\\landmarkClassifier.hdf5\n",
      "Epoch 154/1000\n",
      "84/84 [==============================] - 0s 5ms/step - loss: 0.8775 - accuracy: 0.6829 - val_loss: 0.3569 - val_accuracy: 0.9459\n",
      "\n",
      "Epoch 00154: saving model to landmarksSequence\\landmarkClassifier.hdf5\n",
      "Epoch 155/1000\n",
      "84/84 [==============================] - 0s 5ms/step - loss: 0.8799 - accuracy: 0.6888 - val_loss: 0.3633 - val_accuracy: 0.9391\n",
      "\n",
      "Epoch 00155: saving model to landmarksSequence\\landmarkClassifier.hdf5\n",
      "Epoch 156/1000\n",
      "84/84 [==============================] - 1s 6ms/step - loss: 0.8516 - accuracy: 0.6901 - val_loss: 0.3574 - val_accuracy: 0.9424\n",
      "\n",
      "Epoch 00156: saving model to landmarksSequence\\landmarkClassifier.hdf5\n",
      "Epoch 157/1000\n",
      "84/84 [==============================] - 0s 6ms/step - loss: 0.8637 - accuracy: 0.6845 - val_loss: 0.3575 - val_accuracy: 0.9480\n",
      "\n",
      "Epoch 00157: saving model to landmarksSequence\\landmarkClassifier.hdf5\n",
      "Epoch 158/1000\n",
      "84/84 [==============================] - 0s 6ms/step - loss: 0.8523 - accuracy: 0.6955 - val_loss: 0.3653 - val_accuracy: 0.9369\n",
      "\n",
      "Epoch 00158: saving model to landmarksSequence\\landmarkClassifier.hdf5\n",
      "Epoch 159/1000\n",
      "84/84 [==============================] - 0s 5ms/step - loss: 0.8532 - accuracy: 0.7016 - val_loss: 0.3562 - val_accuracy: 0.9404\n",
      "\n",
      "Epoch 00159: saving model to landmarksSequence\\landmarkClassifier.hdf5\n",
      "Epoch 160/1000\n",
      "84/84 [==============================] - 0s 5ms/step - loss: 0.8727 - accuracy: 0.6924 - val_loss: 0.3665 - val_accuracy: 0.9378\n",
      "\n",
      "Epoch 00160: saving model to landmarksSequence\\landmarkClassifier.hdf5\n",
      "Epoch 161/1000\n",
      "84/84 [==============================] - 1s 6ms/step - loss: 0.8569 - accuracy: 0.6847 - val_loss: 0.3570 - val_accuracy: 0.9378\n",
      "\n",
      "Epoch 00161: saving model to landmarksSequence\\landmarkClassifier.hdf5\n",
      "Epoch 162/1000\n",
      "84/84 [==============================] - 1s 7ms/step - loss: 0.8807 - accuracy: 0.6866 - val_loss: 0.3631 - val_accuracy: 0.9428\n",
      "\n",
      "Epoch 00162: saving model to landmarksSequence\\landmarkClassifier.hdf5\n",
      "Epoch 163/1000\n",
      "84/84 [==============================] - 0s 6ms/step - loss: 0.8653 - accuracy: 0.6903 - val_loss: 0.3531 - val_accuracy: 0.9415\n",
      "\n",
      "Epoch 00163: saving model to landmarksSequence\\landmarkClassifier.hdf5\n",
      "Epoch 164/1000\n",
      "84/84 [==============================] - 0s 5ms/step - loss: 0.8386 - accuracy: 0.7011 - val_loss: 0.3497 - val_accuracy: 0.9500\n",
      "\n",
      "Epoch 00164: saving model to landmarksSequence\\landmarkClassifier.hdf5\n",
      "Epoch 165/1000\n",
      "84/84 [==============================] - 0s 6ms/step - loss: 0.8504 - accuracy: 0.6944 - val_loss: 0.3579 - val_accuracy: 0.9431\n",
      "\n",
      "Epoch 00165: saving model to landmarksSequence\\landmarkClassifier.hdf5\n",
      "Epoch 166/1000\n",
      "84/84 [==============================] - 1s 6ms/step - loss: 0.8573 - accuracy: 0.6943 - val_loss: 0.3594 - val_accuracy: 0.9417\n",
      "\n",
      "Epoch 00166: saving model to landmarksSequence\\landmarkClassifier.hdf5\n",
      "Epoch 167/1000\n",
      "84/84 [==============================] - 0s 6ms/step - loss: 0.8544 - accuracy: 0.6888 - val_loss: 0.3598 - val_accuracy: 0.9315\n",
      "\n",
      "Epoch 00167: saving model to landmarksSequence\\landmarkClassifier.hdf5\n",
      "Epoch 168/1000\n",
      "84/84 [==============================] - 0s 6ms/step - loss: 0.8303 - accuracy: 0.6979 - val_loss: 0.3539 - val_accuracy: 0.9387\n",
      "\n",
      "Epoch 00168: saving model to landmarksSequence\\landmarkClassifier.hdf5\n",
      "Epoch 169/1000\n",
      "84/84 [==============================] - 0s 5ms/step - loss: 0.8468 - accuracy: 0.6969 - val_loss: 0.3561 - val_accuracy: 0.9426\n",
      "\n",
      "Epoch 00169: saving model to landmarksSequence\\landmarkClassifier.hdf5\n",
      "Epoch 170/1000\n",
      "84/84 [==============================] - 0s 6ms/step - loss: 0.8443 - accuracy: 0.6949 - val_loss: 0.3587 - val_accuracy: 0.9419\n",
      "\n",
      "Epoch 00170: saving model to landmarksSequence\\landmarkClassifier.hdf5\n",
      "Epoch 171/1000\n",
      "84/84 [==============================] - 0s 5ms/step - loss: 0.8676 - accuracy: 0.6878 - val_loss: 0.3551 - val_accuracy: 0.9394\n",
      "\n",
      "Epoch 00171: saving model to landmarksSequence\\landmarkClassifier.hdf5\n",
      "Epoch 172/1000\n",
      "84/84 [==============================] - 0s 6ms/step - loss: 0.8460 - accuracy: 0.6967 - val_loss: 0.3507 - val_accuracy: 0.9452\n",
      "\n",
      "Epoch 00172: saving model to landmarksSequence\\landmarkClassifier.hdf5\n",
      "Epoch 173/1000\n",
      "84/84 [==============================] - 0s 6ms/step - loss: 0.8550 - accuracy: 0.6909 - val_loss: 0.3561 - val_accuracy: 0.9404\n",
      "\n",
      "Epoch 00173: saving model to landmarksSequence\\landmarkClassifier.hdf5\n",
      "Epoch 174/1000\n",
      "84/84 [==============================] - 0s 5ms/step - loss: 0.8621 - accuracy: 0.6969 - val_loss: 0.3493 - val_accuracy: 0.9407\n",
      "\n",
      "Epoch 00174: saving model to landmarksSequence\\landmarkClassifier.hdf5\n",
      "Epoch 175/1000\n",
      "84/84 [==============================] - 0s 5ms/step - loss: 0.8372 - accuracy: 0.7068 - val_loss: 0.3593 - val_accuracy: 0.9404\n",
      "\n",
      "Epoch 00175: saving model to landmarksSequence\\landmarkClassifier.hdf5\n",
      "Epoch 176/1000\n",
      "84/84 [==============================] - 0s 6ms/step - loss: 0.8579 - accuracy: 0.6979 - val_loss: 0.3631 - val_accuracy: 0.9283\n",
      "\n",
      "Epoch 00176: saving model to landmarksSequence\\landmarkClassifier.hdf5\n",
      "Epoch 177/1000\n",
      "84/84 [==============================] - 1s 6ms/step - loss: 0.8362 - accuracy: 0.6987 - val_loss: 0.3515 - val_accuracy: 0.9331\n",
      "\n",
      "Epoch 00177: saving model to landmarksSequence\\landmarkClassifier.hdf5\n",
      "Epoch 178/1000\n",
      "84/84 [==============================] - 0s 5ms/step - loss: 0.8342 - accuracy: 0.7017 - val_loss: 0.3533 - val_accuracy: 0.9307\n",
      "\n",
      "Epoch 00178: saving model to landmarksSequence\\landmarkClassifier.hdf5\n",
      "Epoch 179/1000\n",
      "84/84 [==============================] - 0s 5ms/step - loss: 0.8529 - accuracy: 0.6941 - val_loss: 0.3501 - val_accuracy: 0.9387\n",
      "\n",
      "Epoch 00179: saving model to landmarksSequence\\landmarkClassifier.hdf5\n",
      "Epoch 180/1000\n",
      "84/84 [==============================] - 1s 6ms/step - loss: 0.8636 - accuracy: 0.6958 - val_loss: 0.3555 - val_accuracy: 0.9430\n",
      "\n",
      "Epoch 00180: saving model to landmarksSequence\\landmarkClassifier.hdf5\n",
      "Epoch 181/1000\n",
      "84/84 [==============================] - 0s 6ms/step - loss: 0.8468 - accuracy: 0.6999 - val_loss: 0.3519 - val_accuracy: 0.9424\n",
      "\n",
      "Epoch 00181: saving model to landmarksSequence\\landmarkClassifier.hdf5\n",
      "Epoch 182/1000\n",
      "84/84 [==============================] - 1s 6ms/step - loss: 0.8527 - accuracy: 0.6955 - val_loss: 0.3555 - val_accuracy: 0.9354\n",
      "\n",
      "Epoch 00182: saving model to landmarksSequence\\landmarkClassifier.hdf5\n",
      "Epoch 183/1000\n",
      "84/84 [==============================] - 0s 6ms/step - loss: 0.8430 - accuracy: 0.7007 - val_loss: 0.3665 - val_accuracy: 0.9328\n",
      "\n",
      "Epoch 00183: saving model to landmarksSequence\\landmarkClassifier.hdf5\n",
      "Epoch 184/1000\n",
      "84/84 [==============================] - 0s 5ms/step - loss: 0.8586 - accuracy: 0.6919 - val_loss: 0.3579 - val_accuracy: 0.9391\n",
      "\n",
      "Epoch 00184: saving model to landmarksSequence\\landmarkClassifier.hdf5\n",
      "Epoch 00184: early stopping\n"
     ]
    },
    {
     "data": {
      "text/plain": [
       "<tensorflow.python.keras.callbacks.History at 0x16369eaed90>"
      ]
     },
     "execution_count": 12,
     "metadata": {},
     "output_type": "execute_result"
    }
   ],
   "source": [
    "model.fit(\n",
    "    X_train,\n",
    "    y_train,\n",
    "    epochs=1000,\n",
    "    batch_size=150,\n",
    "    validation_data=(X_test, y_test),\n",
    "    callbacks=[cp_callback, es_callback]\n",
    ")"
   ]
  },
  {
   "cell_type": "code",
   "execution_count": 13,
   "metadata": {
    "colab": {
     "base_uri": "https://localhost:8080/"
    },
    "id": "pxvb2Y299hE3",
    "outputId": "59eb3185-2e37-4b9e-bc9d-ab1b8ac29b7f"
   },
   "outputs": [
    {
     "name": "stdout",
     "output_type": "stream",
     "text": [
      "36/36 [==============================] - 0s 2ms/step - loss: 0.3579 - accuracy: 0.9391\n"
     ]
    }
   ],
   "source": [
    "# Model evaluation\n",
    "val_loss, val_acc = model.evaluate(X_test, y_test, batch_size=150)"
   ]
  },
  {
   "cell_type": "code",
   "execution_count": 14,
   "metadata": {
    "id": "RBkmDeUW9hE4"
   },
   "outputs": [],
   "source": [
    "# Loading the saved model\n",
    "model = tf.keras.models.load_model(model_save_path)"
   ]
  },
  {
   "cell_type": "markdown",
   "metadata": {
    "id": "FNP6aqzc9hE5"
   },
   "source": [
    "# Convert to model for Tensorflow-Lite"
   ]
  },
  {
   "cell_type": "code",
   "execution_count": 15,
   "metadata": {
    "id": "ODjnYyld9hE6"
   },
   "outputs": [],
   "source": [
    "# Save as a model dedicated to inference\n",
    "model.save(model_save_path, include_optimizer=False)"
   ]
  },
  {
   "cell_type": "code",
   "execution_count": 16,
   "metadata": {
    "colab": {
     "base_uri": "https://localhost:8080/"
    },
    "id": "zRfuK8Y59hE6",
    "outputId": "a4ca585c-b5d5-4244-8291-8674063209bb"
   },
   "outputs": [
    {
     "name": "stdout",
     "output_type": "stream",
     "text": [
      "INFO:tensorflow:Assets written to: C:\\Users\\obinn\\AppData\\Local\\Temp\\tmp8cp2r1ib\\assets\n"
     ]
    },
    {
     "data": {
      "text/plain": [
       "6976"
      ]
     },
     "execution_count": 16,
     "metadata": {},
     "output_type": "execute_result"
    }
   ],
   "source": [
    "# Transform model (quantization)\n",
    "\n",
    "converter = tf.lite.TFLiteConverter.from_keras_model(model)\n",
    "converter.optimizations = [tf.lite.Optimize.DEFAULT]\n",
    "tflite_quantized_model = converter.convert()\n",
    "\n",
    "open(tflite_save_path, 'wb').write(tflite_quantized_model)"
   ]
  },
  {
   "cell_type": "markdown",
   "metadata": {
    "id": "CHBPBXdx9hE6"
   },
   "source": [
    "# Inference test"
   ]
  },
  {
   "cell_type": "code",
   "execution_count": 17,
   "metadata": {
    "id": "mGAzLocO9hE7"
   },
   "outputs": [],
   "source": [
    "interpreter = tf.lite.Interpreter(model_path=tflite_save_path)\n",
    "interpreter.allocate_tensors()"
   ]
  },
  {
   "cell_type": "code",
   "execution_count": 18,
   "metadata": {
    "id": "oQuDK8YS9hE7"
   },
   "outputs": [],
   "source": [
    "# Get I / O tensor\n",
    "input_details = interpreter.get_input_details()\n",
    "output_details = interpreter.get_output_details()"
   ]
  },
  {
   "cell_type": "code",
   "execution_count": 19,
   "metadata": {
    "id": "2_ixAf_l9hE7"
   },
   "outputs": [],
   "source": [
    "interpreter.set_tensor(input_details[0]['index'], np.array([X_test[0]]))"
   ]
  },
  {
   "cell_type": "code",
   "execution_count": 20,
   "metadata": {
    "colab": {
     "base_uri": "https://localhost:8080/"
    },
    "id": "s4FoAnuc9hE7",
    "outputId": "91f18257-8d8b-4ef3-c558-e9b5f94fabbf",
    "scrolled": true
   },
   "outputs": [
    {
     "name": "stdout",
     "output_type": "stream",
     "text": [
      "CPU times: total: 0 ns\n",
      "Wall time: 0 ns\n"
     ]
    }
   ],
   "source": [
    "%%time\n",
    "# Inference implementation\n",
    "interpreter.invoke()\n",
    "tflite_results = interpreter.get_tensor(output_details[0]['index'])"
   ]
  },
  {
   "cell_type": "code",
   "execution_count": 21,
   "metadata": {
    "colab": {
     "base_uri": "https://localhost:8080/"
    },
    "id": "vONjp19J9hE8",
    "outputId": "77205e24-fd00-42c4-f7b6-e06e527c2cba"
   },
   "outputs": [
    {
     "name": "stdout",
     "output_type": "stream",
     "text": [
      "[3.3481206e-07 6.3473009e-02 7.7156490e-01 1.1105481e-01 3.6927853e-02\n",
      " 3.6943442e-07 2.3298949e-08 6.6442056e-12 3.0218052e-07 9.7671440e-03\n",
      " 9.8102714e-04 1.3309950e-04 1.6743970e-08 4.4757901e-03 2.3859244e-12\n",
      " 4.5581402e-07 6.7148699e-06 1.6141474e-03]\n",
      "2\n"
     ]
    }
   ],
   "source": [
    "print(np.squeeze(tflite_results))\n",
    "print(np.argmax(np.squeeze(tflite_results)))"
   ]
  },
  {
   "cell_type": "code",
   "execution_count": null,
   "metadata": {},
   "outputs": [],
   "source": []
  },
  {
   "cell_type": "code",
   "execution_count": null,
   "metadata": {},
   "outputs": [],
   "source": []
  }
 ],
 "metadata": {
  "accelerator": "GPU",
  "colab": {
   "collapsed_sections": [],
   "name": "keypoint_classification_EN.ipynb",
   "provenance": [],
   "toc_visible": true
  },
  "kernelspec": {
   "display_name": "Python 3 (ipykernel)",
   "language": "python",
   "name": "python3"
  },
  "language_info": {
   "codemirror_mode": {
    "name": "ipython",
    "version": 3
   },
   "file_extension": ".py",
   "mimetype": "text/x-python",
   "name": "python",
   "nbconvert_exporter": "python",
   "pygments_lexer": "ipython3",
   "version": "3.8.12"
  }
 },
 "nbformat": 4,
 "nbformat_minor": 1
}
